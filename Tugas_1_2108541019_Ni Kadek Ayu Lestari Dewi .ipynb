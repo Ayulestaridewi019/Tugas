{
 "cells": [
  {
   "cell_type": "markdown",
   "id": "76478bfb",
   "metadata": {},
   "source": [
    "# 5.1 Print \n",
    "Print berfungsi untuk mencetak tulisan yang berada dalam tanda print "
   ]
  },
  {
   "cell_type": "code",
   "execution_count": 4,
   "id": "87daeb50",
   "metadata": {},
   "outputs": [
    {
     "name": "stdout",
     "output_type": "stream",
     "text": [
      "Hari Senin ada Kelas Algoritma\n"
     ]
    }
   ],
   "source": [
    "print ('Hari Senin ada Kelas Algoritma')"
   ]
  },
  {
   "cell_type": "code",
   "execution_count": 5,
   "id": "f3bcf70f",
   "metadata": {},
   "outputs": [
    {
     "name": "stdout",
     "output_type": "stream",
     "text": [
      "Hari Senin ada Kelas Algoritma\n"
     ]
    }
   ],
   "source": [
    "print (\"Hari Senin ada Kelas Algoritma\")"
   ]
  },
  {
   "cell_type": "code",
   "execution_count": 6,
   "id": "01828b49",
   "metadata": {},
   "outputs": [
    {
     "name": "stdout",
     "output_type": "stream",
     "text": [
      "I don't understant what are you saying\n"
     ]
    }
   ],
   "source": [
    "print (\"I don't understant what are you saying\")"
   ]
  },
  {
   "cell_type": "code",
   "execution_count": 7,
   "id": "633c20b3",
   "metadata": {},
   "outputs": [
    {
     "name": "stdout",
     "output_type": "stream",
     "text": [
      "He is such a \"SMART\"\n"
     ]
    }
   ],
   "source": [
    "print ('He is such a \"SMART\"') "
   ]
  },
  {
   "cell_type": "code",
   "execution_count": 33,
   "id": "b3edfa38",
   "metadata": {},
   "outputs": [
    {
     "name": "stdout",
     "output_type": "stream",
     "text": [
      "19\n",
      "20000\n",
      "380000\n"
     ]
    }
   ],
   "source": [
    "mahasiswa_matematika = 19\n",
    "uang_di_tas = 20000\n",
    "print(mahasiswa_matematika)\n",
    "print(uang_di_tas)\n",
    "print(mahasiswa_matematika*uang_di_tas)"
   ]
  },
  {
   "cell_type": "code",
   "execution_count": 9,
   "id": "75a474e0",
   "metadata": {},
   "outputs": [
    {
     "name": "stdout",
     "output_type": "stream",
     "text": [
      " Ayu Lestari Dewi \n"
     ]
    }
   ],
   "source": [
    "nama_depan = \" Ayu \"\n",
    "nama_tengah = \"Lestari \"\n",
    "nama_belakang = \"Dewi \"\n",
    "print (nama_depan + nama_tengah + nama_belakang ) "
   ]
  },
  {
   "cell_type": "markdown",
   "id": "dcb759a2",
   "metadata": {},
   "source": [
    "# 5.2 Input "
   ]
  },
  {
   "cell_type": "code",
   "execution_count": 11,
   "id": "cf929fe8",
   "metadata": {
    "scrolled": true
   },
   "outputs": [
    {
     "name": "stdout",
     "output_type": "stream",
     "text": [
      "Siapakah nama anda? Lestari\n",
      "Apakah kegiatan anda sekarang, Lestari? membaca buku \n",
      "Semangat membaca buku nya yah, Lestari!\n"
     ]
    }
   ],
   "source": [
    "nama = input ('Siapakah nama anda? ')\n",
    "kegiatan = input ('Apakah kegiatan anda sekarang, ' + nama + '? ' )\n",
    "print ('Semangat ' + kegiatan + 'nya yah, ' + nama + '!') "
   ]
  },
  {
   "cell_type": "markdown",
   "id": "a26dd638",
   "metadata": {},
   "source": [
    "# 5.3 Tipe Data pada python\n",
    "Ada 3 tipe data pada python yaitu :\n",
    "1. int (Bilangan bulat)\n",
    "2. float (Bilangan real)\n",
    "3. str (string) "
   ]
  },
  {
   "cell_type": "code",
   "execution_count": 3,
   "id": "08008895",
   "metadata": {
    "scrolled": true
   },
   "outputs": [
    {
     "name": "stdout",
     "output_type": "stream",
     "text": [
      "Berapakah jumlah uang di tas anda? 10000\n",
      "Berapakah jumlah uang di dompet anda? 5000\n",
      "Total uang anda adalah Rp15000\n"
     ]
    }
   ],
   "source": [
    "uang_di_tas = input(\"Berapakah jumlah uang di tas anda? \")\n",
    "uang_di_dompet = input(\"Berapakah jumlah uang di dompet anda? \")\n",
    "total_uang = int(uang_di_tas) + int(uang_di_dompet)\n",
    "\n",
    "print(\"Total uang anda adalah Rp\" + str(total_uang))"
   ]
  },
  {
   "cell_type": "code",
   "execution_count": 6,
   "id": "fee03ba4",
   "metadata": {},
   "outputs": [
    {
     "name": "stdout",
     "output_type": "stream",
     "text": [
      "Masukan bilangan pertama 0.5\n",
      "Masukan bilangan kedua 0.5\n",
      "Jumlah kedua bilangan adalah 1.0\n"
     ]
    }
   ],
   "source": [
    "bilangan_satu = input (\"Masukan bilangan pertama \")\n",
    "bilangan_kedua = input (\"Masukan bilangan kedua \")\n",
    "jumlah = float (bilangan_satu) + float (bilangan_kedua)\n",
    "print (\"Jumlah kedua bilangan adalah \" + str(jumlah))"
   ]
  },
  {
   "cell_type": "markdown",
   "id": "61a91ed5",
   "metadata": {},
   "source": [
    "# 5.4 Formatted String \n",
    "Format String digunakan untuk mempermudah penulisan variabel yang ingin dicetak pada perintah print. "
   ]
  },
  {
   "cell_type": "code",
   "execution_count": 12,
   "id": "fcc1ff22",
   "metadata": {},
   "outputs": [
    {
     "name": "stdout",
     "output_type": "stream",
     "text": [
      " Nama saya adalah Lestari Dewi. Sekarang berstatus sebagai Mahasiswa aktif di  Universitas Udayana.\n"
     ]
    }
   ],
   "source": [
    "nama = \"Lestari Dewi\"\n",
    "pekerjaan = \"Mahasiswa aktif\"\n",
    "institusi = \" Universitas Udayana\"\n",
    "print (f\" Nama saya adalah {nama}. Sekarang berstatus sebagai {pekerjaan} di {institusi}.\")"
   ]
  },
  {
   "cell_type": "markdown",
   "id": "fb976e49",
   "metadata": {},
   "source": [
    "# 5.5 Strings Index\n",
    "Variabel yang berupa string dapat diurutkan dengan indeks yang dimulai dengan 0. Dimana urutan pertama didefinisikan sebagai urutan ke 0 dan urutan terakhir didefinisikan sebagai urutan ke -1. "
   ]
  },
  {
   "cell_type": "code",
   "execution_count": 16,
   "id": "119aac73",
   "metadata": {},
   "outputs": [
    {
     "name": "stdout",
     "output_type": "stream",
     "text": [
      "belajar menulis puisi\n"
     ]
    }
   ],
   "source": [
    "aktv = \"belajar menulis puisi\" \n",
    "print (aktv)"
   ]
  },
  {
   "cell_type": "code",
   "execution_count": 21,
   "id": "40645e32",
   "metadata": {},
   "outputs": [
    {
     "data": {
      "text/plain": [
       "'b'"
      ]
     },
     "execution_count": 21,
     "metadata": {},
     "output_type": "execute_result"
    }
   ],
   "source": [
    "aktv [0]"
   ]
  },
  {
   "cell_type": "code",
   "execution_count": 23,
   "id": "243db290",
   "metadata": {},
   "outputs": [
    {
     "data": {
      "text/plain": [
       "'u'"
      ]
     },
     "execution_count": 23,
     "metadata": {},
     "output_type": "execute_result"
    }
   ],
   "source": [
    "aktv [-4]"
   ]
  },
  {
   "cell_type": "code",
   "execution_count": 38,
   "id": "ef3c4532",
   "metadata": {},
   "outputs": [
    {
     "name": "stdout",
     "output_type": "stream",
     "text": [
      "belajar menulis puis\n"
     ]
    }
   ],
   "source": [
    "print(aktv[0:-1])"
   ]
  },
  {
   "cell_type": "code",
   "execution_count": 28,
   "id": "11aae948",
   "metadata": {},
   "outputs": [
    {
     "name": "stdout",
     "output_type": "stream",
     "text": [
      "belaja\n"
     ]
    }
   ],
   "source": [
    "print(aktv[0:6])"
   ]
  },
  {
   "cell_type": "code",
   "execution_count": 46,
   "id": "856fd86b",
   "metadata": {},
   "outputs": [
    {
     "name": "stdout",
     "output_type": "stream",
     "text": [
      "lamusu\n"
     ]
    }
   ],
   "source": [
    "print (aktv[2:-1:3])"
   ]
  },
  {
   "cell_type": "markdown",
   "id": "e7a8ddc1",
   "metadata": {},
   "source": [
    "# 5.6 Strings Methods\n",
    "1. len = digunakan untuk mengetahui panjang data / string. \n",
    "2. upper = digunakan mengubah semua tulisan menjadi kapital. \n",
    "3. lower = mengubah semua tulisan menjadi huruf kecil.\n",
    "4. find = menemukan urutan suatu string / letak suatu kata. \n",
    "5. replace = digunakan untuk mengganti suatu kata dalam string. "
   ]
  },
  {
   "cell_type": "code",
   "execution_count": 4,
   "id": "d65366e3",
   "metadata": {},
   "outputs": [],
   "source": [
    "f = \"Fakultas FMIPA berada di Jimbaran\""
   ]
  },
  {
   "cell_type": "code",
   "execution_count": 5,
   "id": "65dcaf1f",
   "metadata": {},
   "outputs": [
    {
     "data": {
      "text/plain": [
       "33"
      ]
     },
     "execution_count": 5,
     "metadata": {},
     "output_type": "execute_result"
    }
   ],
   "source": [
    "len(f)"
   ]
  },
  {
   "cell_type": "code",
   "execution_count": 6,
   "id": "7da6d4a2",
   "metadata": {},
   "outputs": [
    {
     "data": {
      "text/plain": [
       "'FAKULTAS FMIPA BERADA DI JIMBARAN'"
      ]
     },
     "execution_count": 6,
     "metadata": {},
     "output_type": "execute_result"
    }
   ],
   "source": [
    "f.upper()"
   ]
  },
  {
   "cell_type": "code",
   "execution_count": 7,
   "id": "33b4b784",
   "metadata": {},
   "outputs": [
    {
     "data": {
      "text/plain": [
       "'fakultas fmipa berada di jimbaran'"
      ]
     },
     "execution_count": 7,
     "metadata": {},
     "output_type": "execute_result"
    }
   ],
   "source": [
    "f.lower()"
   ]
  },
  {
   "cell_type": "code",
   "execution_count": 8,
   "id": "ba67e448",
   "metadata": {},
   "outputs": [
    {
     "data": {
      "text/plain": [
       "9"
      ]
     },
     "execution_count": 8,
     "metadata": {},
     "output_type": "execute_result"
    }
   ],
   "source": [
    "f.find(\"FMIPA\")"
   ]
  },
  {
   "cell_type": "code",
   "execution_count": 9,
   "id": "48d0feb2",
   "metadata": {},
   "outputs": [
    {
     "data": {
      "text/plain": [
       "-1"
      ]
     },
     "execution_count": 9,
     "metadata": {},
     "output_type": "execute_result"
    }
   ],
   "source": [
    "f.find(\"fakultas\")"
   ]
  },
  {
   "cell_type": "code",
   "execution_count": 10,
   "id": "48926e40",
   "metadata": {},
   "outputs": [
    {
     "data": {
      "text/plain": [
       "0"
      ]
     },
     "execution_count": 10,
     "metadata": {},
     "output_type": "execute_result"
    }
   ],
   "source": [
    "f.find(\"Fakultas\")"
   ]
  },
  {
   "cell_type": "code",
   "execution_count": 11,
   "id": "c3319d81",
   "metadata": {},
   "outputs": [
    {
     "data": {
      "text/plain": [
       "'Fakultas FMIPA berada di Sudirman'"
      ]
     },
     "execution_count": 11,
     "metadata": {},
     "output_type": "execute_result"
    }
   ],
   "source": [
    "f.replace (\"Jimbaran\", \"Sudirman\")"
   ]
  },
  {
   "cell_type": "code",
   "execution_count": 12,
   "id": "eabbdae0",
   "metadata": {},
   "outputs": [
    {
     "data": {
      "text/plain": [
       "'Fakultas FMIPA berada di Jimbaran'"
      ]
     },
     "execution_count": 12,
     "metadata": {},
     "output_type": "execute_result"
    }
   ],
   "source": [
    "f.replace (\"jimbaran\", \"Sudirman\")"
   ]
  },
  {
   "cell_type": "code",
   "execution_count": 13,
   "id": "4383738e",
   "metadata": {},
   "outputs": [
    {
     "name": "stdout",
     "output_type": "stream",
     "text": [
      "Fakultas FMIPA berada di Jimbaran\n"
     ]
    }
   ],
   "source": [
    "print(f)"
   ]
  },
  {
   "cell_type": "code",
   "execution_count": 15,
   "id": "1ca3aac5",
   "metadata": {},
   "outputs": [
    {
     "name": "stdout",
     "output_type": "stream",
     "text": [
      "True\n"
     ]
    }
   ],
   "source": [
    "print( \"Jimbaran\" in f)"
   ]
  },
  {
   "cell_type": "code",
   "execution_count": 16,
   "id": "a46cd2e4",
   "metadata": {},
   "outputs": [
    {
     "name": "stdout",
     "output_type": "stream",
     "text": [
      "False\n"
     ]
    }
   ],
   "source": [
    "print(\"Sudirman\" in f)"
   ]
  },
  {
   "cell_type": "markdown",
   "id": "c73f971a",
   "metadata": {},
   "source": [
    "# 5.7 Operasi Matematika di Python\n",
    "Terdapat beberapa operasi matematika di python diantaranya:\n",
    "Penjumlahan (+) , Pengurangan (-) , Perkalian (*) , Pembagian (/) , Pembulatan Pembagian (//), Modulo (%), Pemangkatan (**) dan ada yang disebut Augmented operator contohnya x +=2 sama artinya dengan x = x +2. ini bertujuan untuk memudahkan dalam membuat program sehingga tidak perlu menulis lebih panjang. "
   ]
  },
  {
   "cell_type": "code",
   "execution_count": 17,
   "id": "3c1d096e",
   "metadata": {},
   "outputs": [
    {
     "data": {
      "text/plain": [
       "13"
      ]
     },
     "execution_count": 17,
     "metadata": {},
     "output_type": "execute_result"
    }
   ],
   "source": [
    "10+3"
   ]
  },
  {
   "cell_type": "code",
   "execution_count": 18,
   "id": "60013e4c",
   "metadata": {},
   "outputs": [
    {
     "data": {
      "text/plain": [
       "7"
      ]
     },
     "execution_count": 18,
     "metadata": {},
     "output_type": "execute_result"
    }
   ],
   "source": [
    "10-3"
   ]
  },
  {
   "cell_type": "code",
   "execution_count": 19,
   "id": "63dc4bd9",
   "metadata": {},
   "outputs": [
    {
     "data": {
      "text/plain": [
       "30"
      ]
     },
     "execution_count": 19,
     "metadata": {},
     "output_type": "execute_result"
    }
   ],
   "source": [
    "10*3"
   ]
  },
  {
   "cell_type": "code",
   "execution_count": 20,
   "id": "169d7e83",
   "metadata": {},
   "outputs": [
    {
     "data": {
      "text/plain": [
       "3.3333333333333335"
      ]
     },
     "execution_count": 20,
     "metadata": {},
     "output_type": "execute_result"
    }
   ],
   "source": [
    "10/3"
   ]
  },
  {
   "cell_type": "code",
   "execution_count": 21,
   "id": "a3c51e6d",
   "metadata": {},
   "outputs": [
    {
     "data": {
      "text/plain": [
       "3"
      ]
     },
     "execution_count": 21,
     "metadata": {},
     "output_type": "execute_result"
    }
   ],
   "source": [
    "10//3"
   ]
  },
  {
   "cell_type": "code",
   "execution_count": 22,
   "id": "dfd72ab7",
   "metadata": {},
   "outputs": [
    {
     "data": {
      "text/plain": [
       "1"
      ]
     },
     "execution_count": 22,
     "metadata": {},
     "output_type": "execute_result"
    }
   ],
   "source": [
    "10%3"
   ]
  },
  {
   "cell_type": "code",
   "execution_count": 23,
   "id": "5f442b89",
   "metadata": {},
   "outputs": [
    {
     "name": "stdout",
     "output_type": "stream",
     "text": [
      "10\n"
     ]
    }
   ],
   "source": [
    "x = 10\n",
    "print (x)"
   ]
  },
  {
   "cell_type": "code",
   "execution_count": 30,
   "id": "88b5e95d",
   "metadata": {},
   "outputs": [
    {
     "name": "stdout",
     "output_type": "stream",
     "text": [
      "2\n"
     ]
    }
   ],
   "source": [
    "x = 2\n",
    "print (x)"
   ]
  },
  {
   "cell_type": "code",
   "execution_count": 31,
   "id": "db605fe0",
   "metadata": {},
   "outputs": [
    {
     "name": "stdout",
     "output_type": "stream",
     "text": [
      "5\n"
     ]
    }
   ],
   "source": [
    "x = x + 3\n",
    "print (x)"
   ]
  },
  {
   "cell_type": "code",
   "execution_count": 42,
   "id": "71b815a1",
   "metadata": {},
   "outputs": [
    {
     "name": "stdout",
     "output_type": "stream",
     "text": [
      "5\n"
     ]
    }
   ],
   "source": [
    "x = 5\n",
    "print (x)"
   ]
  },
  {
   "cell_type": "code",
   "execution_count": 43,
   "id": "ccf69987",
   "metadata": {},
   "outputs": [
    {
     "name": "stdout",
     "output_type": "stream",
     "text": [
      "20\n"
     ]
    }
   ],
   "source": [
    "x += 15\n",
    "print (x)"
   ]
  },
  {
   "cell_type": "code",
   "execution_count": 44,
   "id": "ef3d5ec6",
   "metadata": {},
   "outputs": [
    {
     "name": "stdout",
     "output_type": "stream",
     "text": [
      "15\n"
     ]
    }
   ],
   "source": [
    "x -= 5\n",
    "print(x)"
   ]
  },
  {
   "cell_type": "code",
   "execution_count": 45,
   "id": "914bd2aa",
   "metadata": {},
   "outputs": [
    {
     "name": "stdout",
     "output_type": "stream",
     "text": [
      "5.0\n"
     ]
    }
   ],
   "source": [
    "x /=3\n",
    "print (x)"
   ]
  },
  {
   "cell_type": "code",
   "execution_count": 46,
   "id": "8218a655",
   "metadata": {},
   "outputs": [
    {
     "name": "stdout",
     "output_type": "stream",
     "text": [
      "10.0\n"
     ]
    }
   ],
   "source": [
    "x *=2\n",
    "print (x)"
   ]
  },
  {
   "cell_type": "markdown",
   "id": "f70599ed",
   "metadata": {},
   "source": [
    "# 5.8 Operator Perbandingan di Python \n",
    "Ada beberapa operator perbandingan diantaranya :\n",
    "1. Lebih besar (>)\n",
    "2. Lebih kecil (<)\n",
    "3. Lebih besar sama dengan (>=)\n",
    "4. Lebih kecil sama dengan (<=)\n",
    "5. Sama dengan (==) \n",
    "6. Tidak sama dengan (!=) "
   ]
  },
  {
   "cell_type": "code",
   "execution_count": 47,
   "id": "335977d6",
   "metadata": {},
   "outputs": [
    {
     "name": "stdout",
     "output_type": "stream",
     "text": [
      "True\n"
     ]
    }
   ],
   "source": [
    "x = 5>3\n",
    "print (x)"
   ]
  },
  {
   "cell_type": "code",
   "execution_count": 48,
   "id": "137ac8b6",
   "metadata": {},
   "outputs": [
    {
     "name": "stdout",
     "output_type": "stream",
     "text": [
      "False\n"
     ]
    }
   ],
   "source": [
    "x = 3>5\n",
    "print(x)"
   ]
  },
  {
   "cell_type": "code",
   "execution_count": 49,
   "id": "94e162b1",
   "metadata": {},
   "outputs": [
    {
     "name": "stdout",
     "output_type": "stream",
     "text": [
      "True\n"
     ]
    }
   ],
   "source": [
    "x = 3<5\n",
    "print(x)"
   ]
  },
  {
   "cell_type": "code",
   "execution_count": 50,
   "id": "e13a4e8e",
   "metadata": {},
   "outputs": [
    {
     "name": "stdout",
     "output_type": "stream",
     "text": [
      "True\n"
     ]
    }
   ],
   "source": [
    "x = 5>= 3\n",
    "print(x)"
   ]
  },
  {
   "cell_type": "code",
   "execution_count": 51,
   "id": "4e6ed61e",
   "metadata": {},
   "outputs": [
    {
     "name": "stdout",
     "output_type": "stream",
     "text": [
      "False\n"
     ]
    }
   ],
   "source": [
    "x = 5<= 3\n",
    "print(x)"
   ]
  },
  {
   "cell_type": "code",
   "execution_count": 52,
   "id": "c64e3910",
   "metadata": {},
   "outputs": [
    {
     "name": "stdout",
     "output_type": "stream",
     "text": [
      "False\n"
     ]
    }
   ],
   "source": [
    "x = 5==3\n",
    "print(x)"
   ]
  },
  {
   "cell_type": "code",
   "execution_count": 53,
   "id": "d59d3ebd",
   "metadata": {},
   "outputs": [
    {
     "name": "stdout",
     "output_type": "stream",
     "text": [
      "True\n"
     ]
    }
   ],
   "source": [
    "x = 5==5\n",
    "print(x)"
   ]
  },
  {
   "cell_type": "code",
   "execution_count": 54,
   "id": "8c897645",
   "metadata": {},
   "outputs": [
    {
     "name": "stdout",
     "output_type": "stream",
     "text": [
      "False\n"
     ]
    }
   ],
   "source": [
    "x =5 != 5\n",
    "print (x)"
   ]
  },
  {
   "cell_type": "code",
   "execution_count": 55,
   "id": "dcbab45c",
   "metadata": {},
   "outputs": [
    {
     "name": "stdout",
     "output_type": "stream",
     "text": [
      "True\n"
     ]
    }
   ],
   "source": [
    "x=5 !=3\n",
    "print(x)"
   ]
  },
  {
   "cell_type": "markdown",
   "id": "892bb2bc",
   "metadata": {},
   "source": [
    "# 5.9 Operator Logika di Python\n",
    "Ada 3 Operator logika pada python yaitu : \n",
    "1. end (akan bernilai benar jika kedua nilai adalah benar \n",
    "2. or ( akan bernilai benar jika salah satu nilainya adalah benar \n",
    "3. not ( akan menghasilkan nilai yang berlawanan "
   ]
  },
  {
   "cell_type": "code",
   "execution_count": 6,
   "id": "66768ece",
   "metadata": {},
   "outputs": [],
   "source": [
    "banyak_novel = 20\n",
    "banyak_komik = 10\n"
   ]
  },
  {
   "cell_type": "code",
   "execution_count": 7,
   "id": "29861bb3",
   "metadata": {},
   "outputs": [
    {
     "name": "stdout",
     "output_type": "stream",
     "text": [
      "True\n"
     ]
    }
   ],
   "source": [
    "print (banyak_novel > 10 and banyak_komik < 20 )"
   ]
  },
  {
   "cell_type": "code",
   "execution_count": 10,
   "id": "2347e503",
   "metadata": {},
   "outputs": [
    {
     "name": "stdout",
     "output_type": "stream",
     "text": [
      "False\n"
     ]
    }
   ],
   "source": [
    "print(banyak_novel > 20 and banyak_komik < 5)"
   ]
  },
  {
   "cell_type": "code",
   "execution_count": 8,
   "id": "473339b4",
   "metadata": {},
   "outputs": [
    {
     "name": "stdout",
     "output_type": "stream",
     "text": [
      "True\n"
     ]
    }
   ],
   "source": [
    "print (banyak_novel > 20 or banyak_komik > 5)"
   ]
  },
  {
   "cell_type": "code",
   "execution_count": 9,
   "id": "343b46d3",
   "metadata": {},
   "outputs": [
    {
     "name": "stdout",
     "output_type": "stream",
     "text": [
      "False\n"
     ]
    }
   ],
   "source": [
    "print (banyak_novel > 20 or banyak_komik > 10)"
   ]
  },
  {
   "cell_type": "code",
   "execution_count": 13,
   "id": "c7a8af86",
   "metadata": {},
   "outputs": [
    {
     "name": "stdout",
     "output_type": "stream",
     "text": [
      "True\n"
     ]
    }
   ],
   "source": [
    "print (not (banyak_novel > 30 or banyak_komik < 5))"
   ]
  },
  {
   "cell_type": "markdown",
   "id": "255f63e8",
   "metadata": {},
   "source": [
    "# 5.10 Operator if di Python\n",
    "Operator if akan dijalankan jika ada syarat dan bernilai benar, jika syarat bernilai salah maka tidak akan dijalankan"
   ]
  },
  {
   "cell_type": "code",
   "execution_count": 28,
   "id": "61bde1a5",
   "metadata": {},
   "outputs": [
    {
     "name": "stdout",
     "output_type": "stream",
     "text": [
      "Berapakah panjang tongkat anda? 160\n",
      "Panjangnya dalam cm atau m? cm\n",
      "Panjang tongkat anda adalah 1.6 cm\n"
     ]
    }
   ],
   "source": [
    "panjang_tongkat = float(input(\"Berapakah panjang tongkat anda? \"))\n",
    "cm_atau_m = input(\"Panjangnya dalam cm atau m? \")\n",
    "\n",
    "if cm_atau_m.upper() == \"CM\":\n",
    "    panjang_tongkat = panjang_tongkat/100\n",
    "elif cm_atau_m.upper() == \"M\":\n",
    "   panjang_tongkat = panjang_tongkat*100\n",
    "    \n",
    "print (f\"Panjang tongkat anda adalah {panjang_tongkat} {cm_atau_m}\")"
   ]
  },
  {
   "cell_type": "markdown",
   "id": "e3b7af6c",
   "metadata": {},
   "source": [
    "# 5. 11 While loop \n",
    "While lopp akan terus berjalan selama syaratnya masih benar dan akan berhenti jika syaratnya salah.  "
   ]
  },
  {
   "cell_type": "code",
   "execution_count": 30,
   "id": "31fd7727",
   "metadata": {},
   "outputs": [
    {
     "name": "stdout",
     "output_type": "stream",
     "text": [
      "Angka 2 masih dibawah 10 \n",
      "Angka 4 masih dibawah 10 \n",
      "Angka 6 masih dibawah 10 \n",
      "Angka 8 masih dibawah 10 \n"
     ]
    }
   ],
   "source": [
    "b = 2\n",
    "while b < 10:\n",
    "    print(\"Angka \" + str(b)+ \" masih dibawah 10 \")\n",
    "    b += 2"
   ]
  }
 ],
 "metadata": {
  "kernelspec": {
   "display_name": "Python 3 (ipykernel)",
   "language": "python",
   "name": "python3"
  },
  "language_info": {
   "codemirror_mode": {
    "name": "ipython",
    "version": 3
   },
   "file_extension": ".py",
   "mimetype": "text/x-python",
   "name": "python",
   "nbconvert_exporter": "python",
   "pygments_lexer": "ipython3",
   "version": "3.9.7"
  }
 },
 "nbformat": 4,
 "nbformat_minor": 5
}
