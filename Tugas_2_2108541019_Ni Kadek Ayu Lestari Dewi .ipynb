{
 "cells": [
  {
   "cell_type": "markdown",
   "id": "f402b8fc",
   "metadata": {},
   "source": [
    "# 5.12 List di Python \n",
    "List dapat digunakan untuk mengurutkan bahkan merubah suatu objek di dalam Python baik berupa string maupun berupa angka. Ciri khas dari List adalah menggunakan kurung siku []\n"
   ]
  },
  {
   "cell_type": "code",
   "execution_count": 2,
   "id": "989ed836",
   "metadata": {},
   "outputs": [
    {
     "name": "stdout",
     "output_type": "stream",
     "text": [
      "['pulpen', 'penggaris', 'pensil', 'penghapus']\n"
     ]
    }
   ],
   "source": [
    "alat_tulis = ['pulpen','penggaris','pensil','penghapus']\n",
    "print(alat_tulis)"
   ]
  },
  {
   "cell_type": "code",
   "execution_count": 3,
   "id": "17e713c4",
   "metadata": {},
   "outputs": [
    {
     "name": "stdout",
     "output_type": "stream",
     "text": [
      "pulpen\n"
     ]
    }
   ],
   "source": [
    "print(alat_tulis[0])"
   ]
  },
  {
   "cell_type": "code",
   "execution_count": 4,
   "id": "66329189",
   "metadata": {},
   "outputs": [
    {
     "name": "stdout",
     "output_type": "stream",
     "text": [
      "penghapus\n"
     ]
    }
   ],
   "source": [
    "print(alat_tulis[-1])"
   ]
  },
  {
   "cell_type": "code",
   "execution_count": 5,
   "id": "58ef88d9",
   "metadata": {},
   "outputs": [
    {
     "name": "stdout",
     "output_type": "stream",
     "text": [
      "pensil\n"
     ]
    }
   ],
   "source": [
    "print(alat_tulis[-2])"
   ]
  },
  {
   "cell_type": "code",
   "execution_count": 7,
   "id": "75b81a62",
   "metadata": {},
   "outputs": [
    {
     "name": "stdout",
     "output_type": "stream",
     "text": [
      "['Highlighter', 'penggaris', 'pensil', 'penghapus']\n"
     ]
    }
   ],
   "source": [
    "alat_tulis[0] ='Highlighter'\n",
    "print(alat_tulis)"
   ]
  },
  {
   "cell_type": "code",
   "execution_count": 8,
   "id": "5f1370ce",
   "metadata": {},
   "outputs": [
    {
     "name": "stdout",
     "output_type": "stream",
     "text": [
      "['Highlighter', 'penggaris']\n"
     ]
    }
   ],
   "source": [
    "print(alat_tulis[0:2])"
   ]
  },
  {
   "cell_type": "code",
   "execution_count": 9,
   "id": "002390c8",
   "metadata": {},
   "outputs": [
    {
     "name": "stdout",
     "output_type": "stream",
     "text": [
      "['Highlighter', 'penggaris', 'pensil', 'penghapus']\n"
     ]
    }
   ],
   "source": [
    "#tidak merubah list\n",
    "print(alat_tulis)"
   ]
  },
  {
   "cell_type": "markdown",
   "id": "52251c70",
   "metadata": {},
   "source": [
    "# 5.13 Metode List \n",
    "Karena list merupakan objek, maka keberadaannya dapat dimanipulasi dengan menambahkan atau mengurangi isi nya.\n",
    "append = menambahkan objek di posisi paling belakang,\n",
    "insert = menambahkan objek di posisi yang diinginkan dengan menambahkan urutan angkanya,\n",
    "remove = menghilangkan salah satu objek."
   ]
  },
  {
   "cell_type": "code",
   "execution_count": 11,
   "id": "e564c696",
   "metadata": {},
   "outputs": [
    {
     "name": "stdout",
     "output_type": "stream",
     "text": [
      "['Senin', 'Selasa', 'Kamis', 'Sabtu', 'Minggu']\n"
     ]
    }
   ],
   "source": [
    "hari =['Senin','Selasa','Kamis','Sabtu']\n",
    "hari.append('Minggu')\n",
    "print(hari)"
   ]
  },
  {
   "cell_type": "code",
   "execution_count": 12,
   "id": "1d808b78",
   "metadata": {},
   "outputs": [
    {
     "name": "stdout",
     "output_type": "stream",
     "text": [
      "['Senin', 'Selasa', 'Rabu', 'Kamis', 'Sabtu', 'Minggu']\n"
     ]
    }
   ],
   "source": [
    "hari.insert(2,'Rabu')\n",
    "print(hari)"
   ]
  },
  {
   "cell_type": "code",
   "execution_count": 16,
   "id": "0abd774f",
   "metadata": {},
   "outputs": [
    {
     "name": "stdout",
     "output_type": "stream",
     "text": [
      "['Senin', 'Selasa', 'Rabu', 'Kamis', 'Minggu']\n"
     ]
    }
   ],
   "source": [
    "hari.remove('Sabtu')\n",
    "print(hari)"
   ]
  },
  {
   "cell_type": "code",
   "execution_count": 17,
   "id": "f2078050",
   "metadata": {},
   "outputs": [
    {
     "name": "stdout",
     "output_type": "stream",
     "text": [
      "['Senin', 'Selasa', 'Rabu', 'Kamis']\n"
     ]
    }
   ],
   "source": [
    "hari.remove('Minggu')\n",
    "print(hari)"
   ]
  },
  {
   "cell_type": "code",
   "execution_count": 18,
   "id": "f40b4972",
   "metadata": {},
   "outputs": [
    {
     "name": "stdout",
     "output_type": "stream",
     "text": [
      "False\n"
     ]
    }
   ],
   "source": [
    "print('Sabtu' in hari)"
   ]
  },
  {
   "cell_type": "code",
   "execution_count": 19,
   "id": "b4a87784",
   "metadata": {},
   "outputs": [
    {
     "name": "stdout",
     "output_type": "stream",
     "text": [
      "True\n"
     ]
    }
   ],
   "source": [
    "print('Senin' in hari)"
   ]
  },
  {
   "cell_type": "code",
   "execution_count": 20,
   "id": "97c93c56",
   "metadata": {},
   "outputs": [
    {
     "name": "stdout",
     "output_type": "stream",
     "text": [
      "4\n"
     ]
    }
   ],
   "source": [
    "print(len(hari))"
   ]
  },
  {
   "cell_type": "markdown",
   "id": "c540e972",
   "metadata": {},
   "source": [
    "# 5.14 For Loop\n",
    "For Loop digunakan untuk memanggil semua isi list."
   ]
  },
  {
   "cell_type": "code",
   "execution_count": 21,
   "id": "c198b8d7",
   "metadata": {},
   "outputs": [
    {
     "name": "stdout",
     "output_type": "stream",
     "text": [
      "wortel\n",
      "tomat\n",
      "bayam\n",
      "mentimun\n"
     ]
    }
   ],
   "source": [
    "sayuran=['wortel','tomat','bayam','mentimun']\n",
    "for i in [0,1,2,3,]:\n",
    "    print(sayuran[i])"
   ]
  },
  {
   "cell_type": "code",
   "execution_count": 22,
   "id": "49f1cfff",
   "metadata": {},
   "outputs": [
    {
     "name": "stdout",
     "output_type": "stream",
     "text": [
      "wortel\n",
      "tomat\n",
      "bayam\n",
      "mentimun\n"
     ]
    }
   ],
   "source": [
    "i=0\n",
    "while i <len(sayuran):\n",
    "    print(sayuran[i])\n",
    "    i+=1"
   ]
  },
  {
   "cell_type": "markdown",
   "id": "8264fb62",
   "metadata": {},
   "source": [
    "# 5.15 Fungsi Range \n",
    "Fungsi range berguna untuk membangkitkan bilangan berurutan atau berpola yang kita inginkan."
   ]
  },
  {
   "cell_type": "code",
   "execution_count": 28,
   "id": "21ee7104",
   "metadata": {},
   "outputs": [
    {
     "name": "stdout",
     "output_type": "stream",
     "text": [
      "range(0, 10)\n"
     ]
    }
   ],
   "source": [
    "huruf = range(10)\n",
    "print(huruf)"
   ]
  },
  {
   "cell_type": "code",
   "execution_count": 29,
   "id": "bb12d329",
   "metadata": {},
   "outputs": [
    {
     "name": "stdout",
     "output_type": "stream",
     "text": [
      "0\n",
      "1\n",
      "2\n",
      "3\n",
      "4\n",
      "5\n",
      "6\n",
      "7\n",
      "8\n",
      "9\n"
     ]
    }
   ],
   "source": [
    "for isi in huruf :\n",
    "    print(isi)"
   ]
  },
  {
   "cell_type": "code",
   "execution_count": 30,
   "id": "7e054366",
   "metadata": {},
   "outputs": [
    {
     "name": "stdout",
     "output_type": "stream",
     "text": [
      "3\n",
      "4\n",
      "5\n",
      "6\n"
     ]
    }
   ],
   "source": [
    "for isi in range (3,7):\n",
    "    print(isi)"
   ]
  },
  {
   "cell_type": "code",
   "execution_count": 37,
   "id": "d8f1bd29",
   "metadata": {},
   "outputs": [
    {
     "name": "stdout",
     "output_type": "stream",
     "text": [
      "0\n",
      "3\n",
      "6\n"
     ]
    }
   ],
   "source": [
    "for isi in range (0,7,3):\n",
    "    print(isi)"
   ]
  },
  {
   "cell_type": "code",
   "execution_count": 43,
   "id": "41682a0a",
   "metadata": {},
   "outputs": [
    {
     "name": "stdout",
     "output_type": "stream",
     "text": [
      "6\n"
     ]
    }
   ],
   "source": [
    "data = [2,1,4,5,6,3,2,4,6,3,5]\n",
    "terbesar = data[0]\n",
    "for i in range(len(data)):\n",
    "    if data[i] > terbesar:\n",
    "        terbesar = data[i]\n",
    "print(terbesar)"
   ]
  },
  {
   "cell_type": "code",
   "execution_count": 44,
   "id": "f6ac9a46",
   "metadata": {},
   "outputs": [
    {
     "name": "stdout",
     "output_type": "stream",
     "text": [
      "1\n"
     ]
    }
   ],
   "source": [
    "data = [2,1,4,5,6,3,2,4,6,3,5]\n",
    "terbesar = data[0]\n",
    "for i in range(len(data)):\n",
    "    if data[i] <terbesar:\n",
    "        terbesar = data[i]\n",
    "print(terbesar)"
   ]
  },
  {
   "cell_type": "code",
   "execution_count": 45,
   "id": "f8d0f22f",
   "metadata": {},
   "outputs": [
    {
     "name": "stdout",
     "output_type": "stream",
     "text": [
      "[2, 1, 4, 5, 6, 3]\n"
     ]
    }
   ],
   "source": [
    "data = [2,1,4,5,6,3,2,4,6,3,5]\n",
    "angka_unik=[]\n",
    "for anggota in data :\n",
    "    if anggota not in angka_unik:\n",
    "        angka_unik.append (anggota)\n",
    "print(angka_unik)"
   ]
  },
  {
   "cell_type": "markdown",
   "id": "74025ae3",
   "metadata": {},
   "source": [
    "# 5.16 List 2 Dimensi \n",
    "List 2 dimensi pada umumnya adalah menempatkan sebuah list di dalam list. Gambarannya seperti sebuah matrik."
   ]
  },
  {
   "cell_type": "code",
   "execution_count": 1,
   "id": "51c8e7ca",
   "metadata": {},
   "outputs": [
    {
     "name": "stdout",
     "output_type": "stream",
     "text": [
      "[[2, 4, 6, 8], [1, 3, 5, 7], [12, 18, 24, 36], [9, 45, 3, 81]]\n"
     ]
    }
   ],
   "source": [
    "matrik =[[2,4,6,8],[1,3,5,7],[12,18,24,36],[9,45,3,81]]\n",
    "print(matrik)"
   ]
  },
  {
   "cell_type": "code",
   "execution_count": 2,
   "id": "428e9d28",
   "metadata": {},
   "outputs": [
    {
     "data": {
      "text/plain": [
       "[9, 45, 3, 81]"
      ]
     },
     "execution_count": 2,
     "metadata": {},
     "output_type": "execute_result"
    }
   ],
   "source": [
    "matrik[3]"
   ]
  },
  {
   "cell_type": "code",
   "execution_count": 4,
   "id": "c418e958",
   "metadata": {},
   "outputs": [
    {
     "data": {
      "text/plain": [
       "36"
      ]
     },
     "execution_count": 4,
     "metadata": {},
     "output_type": "execute_result"
    }
   ],
   "source": [
    "matrik[2][3]"
   ]
  },
  {
   "cell_type": "code",
   "execution_count": 5,
   "id": "ab69860d",
   "metadata": {},
   "outputs": [
    {
     "name": "stdout",
     "output_type": "stream",
     "text": [
      "15\n"
     ]
    }
   ],
   "source": [
    "matrik[3][1]=15\n",
    "print (matrik[3][1])"
   ]
  },
  {
   "cell_type": "code",
   "execution_count": 6,
   "id": "cf48a9a3",
   "metadata": {},
   "outputs": [
    {
     "data": {
      "text/plain": [
       "[[2, 4, 6, 8], [1, 3, 5, 7], [12, 18, 24, 36], [9, 15, 3, 81]]"
      ]
     },
     "execution_count": 6,
     "metadata": {},
     "output_type": "execute_result"
    }
   ],
   "source": [
    "matrik"
   ]
  },
  {
   "cell_type": "markdown",
   "id": "664d8426",
   "metadata": {},
   "source": [
    "# 5.17 Tuples \n",
    "Tuples hampir mirip dengan list, namun tuples tidak dapat merubah isi dari data. Jika memiliki data yang sudah benar benar fiks ( tidak ingin dirubah lagi isinya) kita gunakan tuples, sedangkan jika datanya masih ingin dirubah,gunakan list. "
   ]
  },
  {
   "cell_type": "code",
   "execution_count": 13,
   "id": "2f933195",
   "metadata": {},
   "outputs": [],
   "source": [
    "angka =(5,10,15,20,25)"
   ]
  },
  {
   "cell_type": "code",
   "execution_count": 14,
   "id": "a30a56da",
   "metadata": {},
   "outputs": [
    {
     "name": "stdout",
     "output_type": "stream",
     "text": [
      "20\n"
     ]
    }
   ],
   "source": [
    "print(angka[3])"
   ]
  },
  {
   "cell_type": "code",
   "execution_count": 16,
   "id": "e7df08b8",
   "metadata": {},
   "outputs": [
    {
     "name": "stdout",
     "output_type": "stream",
     "text": [
      "(10, 15)\n"
     ]
    }
   ],
   "source": [
    "print(angka[1:3])"
   ]
  },
  {
   "cell_type": "code",
   "execution_count": 19,
   "id": "b95a5b88",
   "metadata": {},
   "outputs": [
    {
     "name": "stdout",
     "output_type": "stream",
     "text": [
      "5\n",
      "10\n",
      "15\n"
     ]
    }
   ],
   "source": [
    "for isi in angka[0:3]:\n",
    "    print(isi)"
   ]
  },
  {
   "cell_type": "markdown",
   "id": "176da2a5",
   "metadata": {},
   "source": [
    "# 5.18 Dictionaries\n",
    "Dictionaries digunakan jika terdapat data yang berhubungan satu sama lain. Contohnya data seseorang yang berisi identitas yang terdiri dari nama,umur, tempat tanggal lahir ataupun satu kesatuan data yang bersumber dari orang tersebut."
   ]
  },
  {
   "cell_type": "code",
   "execution_count": 40,
   "id": "0261276f",
   "metadata": {},
   "outputs": [],
   "source": [
    "biodata_diri = {\n",
    "    \"nama\" :  \"Kadek Ayu Lestari\" ,\n",
    "    \"umur\" : 19,\n",
    "    \"tanggal_lahir\" : \"15-03-2003\",\n",
    "    \"HP\" : \"087754294425\",\n",
    "    \"apakah_singel\" :True \n",
    "}"
   ]
  },
  {
   "cell_type": "code",
   "execution_count": 41,
   "id": "65d437df",
   "metadata": {},
   "outputs": [
    {
     "name": "stdout",
     "output_type": "stream",
     "text": [
      "Kadek Ayu Lestari\n"
     ]
    }
   ],
   "source": [
    "print(biodata_diri[\"nama\"])"
   ]
  },
  {
   "cell_type": "code",
   "execution_count": 37,
   "id": "b6de7af4",
   "metadata": {},
   "outputs": [
    {
     "name": "stdout",
     "output_type": "stream",
     "text": [
      "15-03-2003\n"
     ]
    }
   ],
   "source": [
    "print(biodata_diri.get (\"tanggal_lahir\"))"
   ]
  },
  {
   "cell_type": "code",
   "execution_count": 42,
   "id": "5a009ecc",
   "metadata": {},
   "outputs": [
    {
     "name": "stdout",
     "output_type": "stream",
     "text": [
      "{'nama': 'Kadek Ayu Lestari', 'umur': 19, 'tanggal_lahir': '15-03-2003', 'HP': '087754294425', 'apakah_singel': True}\n"
     ]
    }
   ],
   "source": [
    "print(biodata_diri)"
   ]
  },
  {
   "cell_type": "code",
   "execution_count": 43,
   "id": "c8761013",
   "metadata": {},
   "outputs": [],
   "source": [
    "angka = {\n",
    "    \"0\" : \"nol\",\n",
    "    \"1\" : \"satu\",\n",
    "    \"2\" : \"dua\",\n",
    "    \"3\" : \"tiga\",\n",
    "    \"4\" : \"empat\",\n",
    "    \"5\" : \"lima\",\n",
    "    \"6\" : \"enam\",\n",
    "    \"7\" : \"tujuh\",\n",
    "    \"8\" : \"delapan\",\n",
    "    \"9\" : \"sembilan\"\n",
    "}"
   ]
  },
  {
   "cell_type": "code",
   "execution_count": 45,
   "id": "535e6b02",
   "metadata": {},
   "outputs": [
    {
     "name": "stdout",
     "output_type": "stream",
     "text": [
      "Masukkan nim anda 2108541019\n",
      "dua satu nol delapan lima empat satu nol satu sembilan \n"
     ]
    }
   ],
   "source": [
    "nim_mahasiswa = input(\"Masukkan nim anda \")\n",
    "nomor_angka = \"\"\n",
    "for isi in nim_mahasiswa:\n",
    "    nomor_angka += angka.get(isi) +\" \"\n",
    "print (nomor_angka)"
   ]
  },
  {
   "cell_type": "markdown",
   "id": "677359de",
   "metadata": {},
   "source": [
    "# 5.19 Fungsi dalam Python \n",
    "Fungsi dibentuk untuk menghindari pengulangan pembuatan program secara manual dimana fungsi tersebut memiliki pengulangan yang tinggi dalam program yang dibuat."
   ]
  },
  {
   "cell_type": "code",
   "execution_count": 55,
   "id": "22e544e8",
   "metadata": {},
   "outputs": [],
   "source": [
    "def full_nama(first_name,last_name):\n",
    "    print(f\"Nama lengkap saya adalah {first_name}{last_name}\")"
   ]
  },
  {
   "cell_type": "code",
   "execution_count": 56,
   "id": "3a830c0f",
   "metadata": {},
   "outputs": [
    {
     "name": "stdout",
     "output_type": "stream",
     "text": [
      "Nama depan saya adalah Ni Kadek Ayu \n",
      "Nama belakang saya adalah Lestari Dewi\n",
      "Nama lengkap saya adalah Ni Kadek Ayu Lestari Dewi\n"
     ]
    }
   ],
   "source": [
    "first_name = input(\"Nama depan saya adalah \")\n",
    "last_name = input(\"Nama belakang saya adalah \")\n",
    "full_nama(first_name,last_name)"
   ]
  },
  {
   "cell_type": "markdown",
   "id": "50aedd34",
   "metadata": {},
   "source": [
    "# 5.19.1 Tugas Fungsi pada Python\n",
    "Terdapat dua jenis tugas fungsi pada python yaitu menjalankan perintah dan menampilkan hasil perhitungan. "
   ]
  },
  {
   "cell_type": "code",
   "execution_count": 57,
   "id": "64d56738",
   "metadata": {},
   "outputs": [],
   "source": [
    "def waktu_tiba(jarak,kecepatan):\n",
    "    waktu = jarak/kecepatan\n",
    "    print(waktu)"
   ]
  },
  {
   "cell_type": "code",
   "execution_count": 59,
   "id": "a55a7da0",
   "metadata": {},
   "outputs": [],
   "source": [
    "def waktu_mulai(jarak,kecepatan):\n",
    "    waktu = jarak/kecepatan\n",
    "    return waktu "
   ]
  },
  {
   "cell_type": "code",
   "execution_count": 60,
   "id": "f7bf2c86",
   "metadata": {},
   "outputs": [
    {
     "name": "stdout",
     "output_type": "stream",
     "text": [
      "1.5\n"
     ]
    }
   ],
   "source": [
    "waktu_tiba (60,40)"
   ]
  },
  {
   "cell_type": "code",
   "execution_count": 61,
   "id": "bde3a5c2",
   "metadata": {},
   "outputs": [
    {
     "data": {
      "text/plain": [
       "1.5"
      ]
     },
     "execution_count": 61,
     "metadata": {},
     "output_type": "execute_result"
    }
   ],
   "source": [
    "waktu_mulai (60,40)"
   ]
  },
  {
   "cell_type": "code",
   "execution_count": 63,
   "id": "bc56422b",
   "metadata": {},
   "outputs": [
    {
     "name": "stdout",
     "output_type": "stream",
     "text": [
      "1.5\n",
      "None\n"
     ]
    }
   ],
   "source": [
    "a = waktu_tiba (60,40)\n",
    "print(a)"
   ]
  },
  {
   "cell_type": "code",
   "execution_count": 75,
   "id": "2fd90414",
   "metadata": {},
   "outputs": [],
   "source": [
    "def luas_persegi(sisi):\n",
    "    luas = sisi**2\n",
    "    return luas "
   ]
  },
  {
   "cell_type": "code",
   "execution_count": 89,
   "id": "5b175515",
   "metadata": {
    "scrolled": true
   },
   "outputs": [
    {
     "name": "stdout",
     "output_type": "stream",
     "text": [
      "Tulis jenis bidangnya PERSEGI\n",
      "Berapakah panjang sisinya? 7\n",
      "Luas PERSEGI adalah 49.0\n"
     ]
    }
   ],
   "source": [
    "jenis_bidang = input(\"Tulis jenis bidangnya \")\n",
    "if jenis_bidang.upper() =='PERSEGI':\n",
    "    sisi = float(input(\"Berapakah panjang sisinya? \"))\n",
    "    luas = luas_persegi(sisi)\n",
    "    print(f\"Luas {jenis_bidang} adalah {luas}\")"
   ]
  }
 ],
 "metadata": {
  "kernelspec": {
   "display_name": "Python 3 (ipykernel)",
   "language": "python",
   "name": "python3"
  },
  "language_info": {
   "codemirror_mode": {
    "name": "ipython",
    "version": 3
   },
   "file_extension": ".py",
   "mimetype": "text/x-python",
   "name": "python",
   "nbconvert_exporter": "python",
   "pygments_lexer": "ipython3",
   "version": "3.9.7"
  }
 },
 "nbformat": 4,
 "nbformat_minor": 5
}
